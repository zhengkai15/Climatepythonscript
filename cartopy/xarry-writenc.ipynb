{
 "metadata": {
  "language_info": {
   "codemirror_mode": {
    "name": "ipython",
    "version": 3
   },
   "file_extension": ".py",
   "mimetype": "text/x-python",
   "name": "python",
   "nbconvert_exporter": "python",
   "pygments_lexer": "ipython3",
   "version": "3.8.2-final"
  },
  "orig_nbformat": 2,
  "kernelspec": {
   "name": "python3",
   "display_name": "Python 3",
   "language": "python"
  }
 },
 "nbformat": 4,
 "nbformat_minor": 2,
 "cells": [
  {
   "cell_type": "code",
   "execution_count": 3,
   "metadata": {},
   "outputs": [],
   "source": [
    "import xarray as xr\n",
    "import numpy as np\n",
    "num_steps = 20\n",
    "num_times = 100\n",
    "#Create DataArray\n",
    "d = xr.DataArray(np.zeros([num_steps, num_times], np.float32),\n",
    "                 {'Step': np.arange(num_steps),\n",
    "                  'Time': np.arange(num_times)},\n",
    "                 ('Step', 'Time'))\n",
    "#Computatation\n",
    "for i in range(num_steps):\n",
    "    d[i, :] = i\n",
    "#Write to file\n",
    "d.to_netcdf('test.nc')\n",
    "\n"
   ]
  },
  {
   "cell_type": "code",
   "execution_count": null,
   "metadata": {},
   "outputs": [],
   "source": [
    "from cdo import *\n",
    "import numpy as np\n",
    "import matplotlib.pyplot as plt\n",
    "import xarray as xr\n",
    "cdo=Cdo()\n",
    "# f1=cdo.fldmean(input=\"-timmean -sellonlatbox,-50,-35,-75,-60 -selseason,DJF \" +  \"/Users/zhengkai/Desktop/new_after/E280_mpiom_last100year_wiso_catted.selvars_THO_SAO_ZO_SICOMO_ymonmean_r360x180.nc\",returnCdf = True)\n",
    "f1=cdo.fldmean(input=\"-timmean -sellonlatbox,-50,-35,-75,-60 -selseason,DJF \" +  \"/Users/zhengkai/Desktop/new_after/E280_mpiom_last100year_wiso_catted.selvars_THO_SAO_ZO_SICOMO_ymonmean_r360x180.nc\",returnCdf = True)\n",
    "# print(f1.variables[\"THO\"])\n",
    "# print(f1.variables[\"plev\"][:])\n",
    "# print(f1.variables[\"time\"].shape)\n",
    "a=xr.DataArray(f1.variables[\"THO\"],\n",
    "                 {'lat': f1.variables[\"lat\"][:],\n",
    "                  'lon': f1.variables[\"lon\"][:],\n",
    "                  'plev': f1.variables[\"plev\"][:],\n",
    "                  'time': f1.variables[\"time\"][:]},\n",
    "                 ('time','plev','lat', 'lon'))\n",
    "# print(a)\n",
    "# a.plot()\n",
    "\n",
    "a[0,:,0,0].plot.line(y=\"plev\",figsize=(5.7,4),color='k',marker=\"o\",yincrease=False)\n",
    "plt.ylim(1000,0)\n",
    "plt.xlim(-1.55,0.3)\n",
    "fig,ax=plt.subplots()\n",
    "print(f1.variables[\"THO\"])\n",
    "THO=f1.variables[\"THO\"][0,:,0,0]\n",
    "lev=f1.variables[\"plev\"]\n",
    "ax.plot(THO,lev)\n",
    "plt.ylim(2000,0)\n",
    "\n",
    "\n",
    "\n",
    "ax.plot(THO,lev)\n",
    "plt.ylim(2000,0)\n",
    "\n",
    "a=xr.DataArray(f1.variables[\"THO\"][0,:,0,0],{'plev': f1.variables[\"plev\"][:]},'plev')\n",
    "# print(a)\n",
    "a.plot.line(y=\"plev\",figsize=(5.7,4),color='k',marker=\"o\",yincrease=False)"
   ]
  }
 ]
}