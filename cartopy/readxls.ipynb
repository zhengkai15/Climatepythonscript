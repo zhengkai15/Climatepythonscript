{
 "cells": [
  {
   "cell_type": "code",
   "execution_count": null,
   "metadata": {
    "pycharm": {
     "is_executing": false
    }
   },
   "outputs": [],
   "source": [
    "import os \n",
    "import xlrd\n",
    "# os.listdir(\".\")\n",
    "print (os.getcwd())"
   ]
  },
  {
   "cell_type": "code",
   "execution_count": null,
   "metadata": {},
   "outputs": [],
   "source": [
    "# pip install xlrd"
   ]
  },
  {
   "cell_type": "code",
   "execution_count": null,
   "metadata": {
    "pycharm": {
     "is_executing": false
    }
   },
   "outputs": [],
   "source": [
    "# worksheet=xlrd.open_workbook('./pycharm/willeit_etal1.xlsx')#vscode\n",
    "worksheet=xlrd.open_workbook('../pycharm/willeit_etal1.xlsx')#pycharm\n",
    "sheet_names= worksheet.sheet_names()\n",
    "print(sheet_names)\n",
    "for sheet_name in sheet_names:\n",
    "    \n",
    "    sheet = worksheet.sheet_by_name(sheet_name)\n",
    "    rows = sheet.nrows # 获取行数\n",
    "    cols = sheet.ncols # 获取列数，尽管没用到\n",
    "    all_content = []\n",
    "    all_content1 = []\n",
    "    for i in range(rows) :\n",
    "        cell = sheet.cell_value(i, 0) # 取第二列数据\n",
    "        cell1= sheet.cell_value(i, 1)\n",
    "        try:\n",
    "            cell = int(cell) # 转换为整数\n",
    "            all_content.append(cell)\n",
    "            cell1 = int(cell1) # 转换为整数\n",
    "            all_content1.append(cell1)\n",
    "        except ValueError as e:\n",
    "            pass\n",
    "    cols = sheet.col_values(2) # 获取第二列内容 但是整数会处理成float\n",
    "#     print(all_content1)\n"
   ]
  },
  {
   "cell_type": "markdown",
   "metadata": {},
   "source": [
    "print(data)\n",
    "data.sheet_names()\n",
    "print(\"sheets：\" + str(data.sheet_names()))\n",
    "print(data.sheet1)"
   ]
  },
  {
   "cell_type": "code",
   "execution_count": null,
   "metadata": {},
   "outputs": [],
   "source": [
    "# print(all_content)"
   ]
  },
  {
   "cell_type": "code",
   "execution_count": null,
   "metadata": {},
   "outputs": [],
   "source": [
    "import matplotlib\n",
    "import matplotlib.pyplot as plt\n",
    "import numpy as np\n",
    "\n",
    "# Data for plotting\n",
    "t = np.arange(0.0, 2.0, 0.01)\n",
    "s = 1 + np.sin(2 * np.pi * t)\n",
    "\n",
    "\n",
    "fig, ax = plt.subplots()\n",
    "\n",
    "ax.plot(t, s)\n",
    "ax.set(xlabel='time (s)', ylabel='voltage (mV)',\n",
    "       title='About as simple as it gets, folks')\n",
    "ax.grid()\n",
    "\n",
    "# fig.savefig(\"test.png\")\n",
    "plt.show()"
   ]
  },
  {
   "cell_type": "code",
   "execution_count": null,
   "metadata": {},
   "outputs": [],
   "source": [
    "fig, ax = plt.subplots()\n",
    "all_content2=[-l for l in all_content]\n",
    "ax.plot(all_content2, all_content1)"
   ]
  },
  {
   "cell_type": "code",
   "execution_count": null,
   "metadata": {},
   "outputs": [],
   "source": [
    "def reverse(ListInput):\n",
    "    RevList=[]\n",
    "    for i in range (len(ListInput)):\n",
    "        RevList.append(ListInput.pop())\n",
    "    return RevList"
   ]
  },
  {
   "cell_type": "code",
   "execution_count": null,
   "metadata": {},
   "outputs": [],
   "source": [
    "tmp=reverse(all_content)\n",
    "# print(tmp)\n",
    "# print(all_content)\n"
   ]
  },
  {
   "cell_type": "code",
   "execution_count": null,
   "metadata": {},
   "outputs": [],
   "source": [
    "os.listdir('.')"
   ]
  }
 ],
 "metadata": {
  "kernelspec": {
   "display_name": "Python 3",
   "language": "python",
   "name": "python3"
  },
  "language_info": {
   "codemirror_mode": {
    "name": "ipython",
    "version": 3
   },
   "file_extension": ".py",
   "mimetype": "text/x-python",
   "name": "python",
   "nbconvert_exporter": "python",
   "pygments_lexer": "ipython3",
   "version": "3.8.2-final"
  },
  "pycharm": {
   "stem_cell": {
    "cell_type": "raw",
    "metadata": {
     "collapsed": false
    },
    "source": []
   }
  }
 },
 "nbformat": 4,
 "nbformat_minor": 4
}